{
 "cells": [
  {
   "cell_type": "markdown",
   "metadata": {},
   "source": [
    "# Converting Video to Images"
   ]
  },
  {
   "cell_type": "code",
   "execution_count": 8,
   "metadata": {},
   "outputs": [],
   "source": [
    "#importing libraries\n",
    "import os\n",
    "import shutil\n",
    "import xml.etree.ElementTree as ET\n",
    "import cv2\n",
    "from PIL import Image, ExifTags, ImageOps"
   ]
  },
  {
   "cell_type": "code",
   "execution_count": 9,
   "metadata": {},
   "outputs": [],
   "source": [
    "#set the image to be referenced for copying annotations...\n",
    "images_to_copy_folder = r\"C:\\Users\\adithi\\Desktop\\Praxis\\capstone\\img\\video_images\\unannotated_images\"\n",
    "destination_xml_folder = r\"C:\\Users\\adithi\\Desktop\\Praxis\\capstone\\img\\video_images\\xml_src\"\n",
    "unannotated_video_path = r\"C:\\Users\\adithi\\Desktop\\Praxis\\capstone\\img\\video_images\\unannotated_fixed_video_files\""
   ]
  },
  {
   "cell_type": "code",
   "execution_count": 7,
   "metadata": {},
   "outputs": [],
   "source": [
    "for filename in os.listdir(path=unannotated_video_path):\n",
    "    \n",
    "    cam = cv2.VideoCapture(unannotated_video_path + \"\\\\\" + filename) \n",
    "\n",
    "    # frame \n",
    "    currentframe = 0\n",
    "    frameRate = 0.5 # will capture image in each 0.5 second\n",
    "    count=1\n",
    "    sec = 0\n",
    "    while(True): \n",
    "        cam.set(cv2.CAP_PROP_POS_MSEC,sec*1000)\n",
    "        # reading from frame \n",
    "        ret,frame = cam.read() \n",
    "        \n",
    "        if ret: \n",
    "\n",
    "\n",
    "            count = count + 1\n",
    "            sec = sec + frameRate\n",
    "            sec = round(sec, 2)\n",
    "            # if video is still left continue creating images \n",
    "            name = images_to_copy_folder + \"\\\\\" + str(filename[:-4]) + \"_\" + str(currentframe) + '.png'\n",
    "            #print ('Creating...' + name) \n",
    "\n",
    "            # writing the extracted images \n",
    "            cv2.imwrite(name, frame) \n",
    "\n",
    "            # increasing counter so that it will \n",
    "            # show how many frames are created \n",
    "            currentframe += 1\n",
    "        else: \n",
    "            break\n",
    "\n",
    "    # Release all space and windows once done \n",
    "    cam.release() \n",
    "    cv2.destroyAllWindows()"
   ]
  },
  {
   "cell_type": "markdown",
   "metadata": {},
   "source": [
    "### 90 degree rotation"
   ]
  },
  {
   "cell_type": "code",
   "execution_count": null,
   "metadata": {},
   "outputs": [],
   "source": [
    "os.chdir(images_to_copy_folder)\n",
    "for i in os.listdir():\n",
    "    image=Image.open(i)\n",
    "    image=image.rotate(90, expand=True)\n",
    "    image = ImageOps.mirror(image)\n",
    "    image.save(i)\n",
    "    image.close()"
   ]
  },
  {
   "cell_type": "markdown",
   "metadata": {},
   "source": [
    "### 270 degree rotation"
   ]
  },
  {
   "cell_type": "code",
   "execution_count": null,
   "metadata": {},
   "outputs": [],
   "source": [
    "os.chdir(images_to_copy_folder)\n",
    "for i in os.listdir():\n",
    "    image=Image.open(i)\n",
    "    image=image.rotate(270, expand=True)\n",
    "    image.save(i)\n",
    "    image.close()"
   ]
  },
  {
   "cell_type": "code",
   "execution_count": null,
   "metadata": {},
   "outputs": [],
   "source": [
    "unrotated_folder = r\"C:\\Users\\rohan\\Desktop\\Praxis_coureswork\\Capstone_YOLO\\green_screen\\testing\"\n",
    "rotated_folder = r\"C:\\Users\\rohan\\Desktop\\Praxis_coureswork\\Capstone_YOLO\\green_screen\\rotated\"\n",
    "annotations_folder = r\"C:\\Users\\rohan\\Desktop\\Praxis_coureswork\\Capstone_YOLO\\green_screen\\green_screen_cropped_annotations\""
   ]
  },
  {
   "cell_type": "code",
   "execution_count": null,
   "metadata": {},
   "outputs": [],
   "source": [
    "for file in os.listdir(unrotated_folder):\n",
    "    image=Image.open(unrotated_folder + \"\\\\\" + file)\n",
    "    image = ImageOps.mirror(image)\n",
    "    image.save(rotated_folder + \"\\\\\" + file)\n",
    "    image.close()"
   ]
  },
  {
   "cell_type": "code",
   "execution_count": null,
   "metadata": {},
   "outputs": [],
   "source": [
    "for file in os.listdir(unrotated_folder):\n",
    "    file = file[:-4] + \".xml\"\n",
    "    print(file)\n",
    "    try:\n",
    "        shutil.move(annotations_folder + \"\\\\\" + file, unrotated_folder)\n",
    "    except:\n",
    "        continue\n"
   ]
  },
  {
   "cell_type": "markdown",
   "metadata": {},
   "source": [
    "# XML annotation copier"
   ]
  },
  {
   "cell_type": "code",
   "execution_count": null,
   "metadata": {},
   "outputs": [],
   "source": [
    "img_xml_to_reference = xml_file_name\n",
    "img_name_to_copy = xml_file_name[:-4] + \".png\"\n",
    "file_to_reference = r\"C:\\Users\\rohan\\Desktop\\Praxis_coureswork\\Capstone_YOLO\\xml_src_to_copy\" + \"\\\\\" + img_xml_to_reference\n",
    "\n",
    "os.chdir(images_to_copy_folder)\n",
    "\n",
    "#For each image to be annotated\n",
    "for i in os.listdir():\n",
    "    #If it ends with .png\n",
    "    if i.endswith(\".png\"):\n",
    "        #If the image is not the image to be copied\n",
    "        if i != img_name_to_copy:\n",
    "            print(i)\n",
    "            #considering .jpg = i[:-4]\n",
    "            #Create xml filename\n",
    "            xml_filepath = destination_xml_folder + \"\\\\\" + i[:-4] + \".xml\"\n",
    "            #Copy annoted xml to folder with different name as the image to be copied\n",
    "            shutil.copyfile(file_to_reference, xml_filepath)\n",
    "            #For each copied xml file change the filename embded in the xml content\n",
    "            with open(xml_filepath, encoding='latin-1') as f:\n",
    "                \n",
    "                tree = ET.parse(f)\n",
    "                root = tree.getroot()\n",
    "                \n",
    "                for elem in root.getiterator():\n",
    "                    elem.text = elem.text.replace(img_name_to_copy, i)\n",
    "                    \n",
    "                tree.write(xml_filepath, encoding='latin-1', xml_declaration= False)\n",
    "\n",
    "source = r\"C:\\Users\\adithi\\Desktop\\Praxis\\capstone\\img\\video_images\\unannotated_images\"\n",
    "destination = r\"C:\\Users\\adithi\\Desktop\\Praxis\\capstone\\img\\video_images\\annotated_images\"\n",
    "\n",
    "files = os.listdir(source)\n",
    "for f in files:\n",
    "        shutil.move(source + \"\\\\\" + f, destination)\n",
    "        \n",
    "source = r\"C:\\Users\\adithi\\Desktop\\Praxis\\capstone\\img\\video_images\\xml_src_to_copy\"\n",
    "destination = r\"C:\\Users\\adithi\\Desktop\\Praxis\\capstone\\img\\video_images\\xml_src\"\n",
    "\n",
    "shutil.move(file_to_reference, destination)\n",
    "\n",
    "source = r\"C:\\Users\\adithi\\Desktop\\Praxis\\capstone\\img\\video_images\\unannotated_fixed_video_files\"\n",
    "destination = r\"C:\\Users\\adithi\\Desktop\\Praxis\\capstone\\img\\video_images\\annotated_fixed_video_files\"\n",
    "\n",
    "files = os.listdir(source)\n",
    "for f in files:\n",
    "        shutil.move(source + \"\\\\\" + f, destination)"
   ]
  },
  {
   "cell_type": "markdown",
   "metadata": {},
   "source": [
    "## Now move all files to other folder - integrated with above code"
   ]
  },
  {
   "cell_type": "code",
   "execution_count": null,
   "metadata": {},
   "outputs": [],
   "source": [
    "source = r\"C:\\Users\\adithi\\Desktop\\Praxis\\capstone\\img\\video_images\\unannotated_images\"\n",
    "destination = r\"C:\\Users\\adithi\\Desktop\\Praxis\\capstone\\img\\video_images\\annotated_images\"\n",
    "\n",
    "files = os.listdir(source)\n",
    "for f in files:\n",
    "        shutil.move(source + \"\\\\\" + f, destination)"
   ]
  },
  {
   "cell_type": "code",
   "execution_count": null,
   "metadata": {},
   "outputs": [],
   "source": [
    "source = r\"C:\\Users\\adithi\\Desktop\\Praxis\\capstone\\img\\video_images\\xml_src_to_copy\"\n",
    "destination = r\"C:\\Users\\adithi\\Desktop\\Praxis\\capstone\\img\\video_images\\xml_src\"\n",
    "\n",
    "shutil.move(file_to_reference, destination)"
   ]
  },
  {
   "cell_type": "code",
   "execution_count": null,
   "metadata": {},
   "outputs": [],
   "source": [
    "source = r\"C:\\Users\\adithi\\Desktop\\Praxis\\capstone\\img\\video_images\\unannotated_fixed_video_files\"\n",
    "destination = r\"C:\\Users\\adithi\\Desktop\\Praxis\\capstone\\img\\video_images\\annotated_fixed_video_files\"\n",
    "\n",
    "files = os.listdir(source)\n",
    "for f in files:\n",
    "        shutil.move(source + \"\\\\\" + f, destination)"
   ]
  },
  {
   "cell_type": "code",
   "execution_count": null,
   "metadata": {},
   "outputs": [],
   "source": []
  }
 ],
 "metadata": {
  "kernelspec": {
   "display_name": "Python 3",
   "language": "python",
   "name": "python3"
  },
  "language_info": {
   "codemirror_mode": {
    "name": "ipython",
    "version": 3
   },
   "file_extension": ".py",
   "mimetype": "text/x-python",
   "name": "python",
   "nbconvert_exporter": "python",
   "pygments_lexer": "ipython3",
   "version": "3.7.1"
  }
 },
 "nbformat": 4,
 "nbformat_minor": 2
}
