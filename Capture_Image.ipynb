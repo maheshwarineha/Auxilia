{
 "cells": [
  {
   "cell_type": "code",
   "execution_count": 6,
   "metadata": {},
   "outputs": [
    {
     "name": "stdout",
     "output_type": "stream",
     "text": [
      "Processing image...\n",
      "Converting RGB image to grayscale...\n",
      "Converted RGB image to grayscale...\n",
      "Image saved!\n",
      "Processing image...\n",
      "Converting RGB image to grayscale...\n",
      "Converted RGB image to grayscale...\n",
      "Image saved!\n",
      "Processing image...\n",
      "Converting RGB image to grayscale...\n",
      "Converted RGB image to grayscale...\n",
      "Image saved!\n",
      "Turning off camera.\n",
      "Camera off.\n",
      "Program ended.\n"
     ]
    }
   ],
   "source": [
    "import cv2 \n",
    "\n",
    "key = cv2. waitKey(1)\n",
    "webcam = cv2.VideoCapture(0)\n",
    "i=0\n",
    "while True:\n",
    "    \n",
    "    check, frame = webcam.read()\n",
    "    #print(check) #prints true as long as the webcam is running\n",
    "    #print(frame) #prints matrix values of each framecd \n",
    "    cv2.imshow(\"Capturing\", frame)\n",
    "    key = cv2.waitKey(1)\n",
    "    if key == ord('s'): \n",
    "        #print(frame)\n",
    "        cv2.imwrite(filename='saved_img'+str(i)+'.jpg', img=frame)\n",
    "        #webcam.release()\n",
    "        img_new = cv2.imread('saved_img'+str(i)+'.jpg', cv2.IMREAD_GRAYSCALE)\n",
    "        #img_new = cv2.imshow(\"Captured Image\", img_new)\n",
    "        \n",
    "        #cv2.waitKey(1650)\n",
    "        #cv2.destroyAllWindows()\n",
    "        print(\"Processing image...\")\n",
    "        img_ = cv2.imread('saved_img'+str(i)+'.jpg', cv2.IMREAD_ANYCOLOR)\n",
    "        print(\"Converting RGB image to grayscale...\")\n",
    "        gray = cv2.cvtColor(img_, cv2.COLOR_BGR2GRAY)\n",
    "        print(\"Converted RGB image to grayscale...\")\n",
    "        #print(\"Resizing image to 28x28 scale...\")\n",
    "        #img_ = cv2.resize(gray,(28,28))\n",
    "        #print(\"Resized...\")\n",
    "        #img_resized = cv2.imwrite(filename='saved_img-final'+str(i)+'.jpg', img=img_)\n",
    "        print(\"Image saved!\")\n",
    "        i=i+1\n",
    "        #break\n",
    "        \n",
    "    elif key == ord('q'):\n",
    "        print(\"Turning off camera.\")\n",
    "        webcam.release()\n",
    "        print(\"Camera off.\")\n",
    "        print(\"Program ended.\")\n",
    "        cv2.destroyAllWindows()\n",
    "        break"
   ]
  },
  {
   "cell_type": "code",
   "execution_count": 10,
   "metadata": {},
   "outputs": [],
   "source": [
    "import os\n",
    "os.chdir(r\"G:\\Capstone Project\\Image\")"
   ]
  },
  {
   "cell_type": "code",
   "execution_count": null,
   "metadata": {},
   "outputs": [],
   "source": []
  },
  {
   "cell_type": "code",
   "execution_count": null,
   "metadata": {},
   "outputs": [],
   "source": [
    "cap = cv.VideoCapture('vtest.avi')\n",
    "fgbg = cv.createBackgroundSubtractorMOG()\n",
    "while(1):\n",
    "    ret, frame = cap.read()\n",
    "    fgmask = fgbg.apply(frame)\n",
    "    cv.imshow('frame',fgmask)\n",
    "    k = cv.waitKey(30) & 0xff\n",
    "    if k == 27:\n",
    "        break\n",
    "cap.release()\n",
    "cv.destroyAllWindows()"
   ]
  },
  {
   "cell_type": "code",
   "execution_count": null,
   "metadata": {},
   "outputs": [],
   "source": []
  }
 ],
 "metadata": {
  "kernelspec": {
   "display_name": "Python 3",
   "language": "python",
   "name": "python3"
  },
  "language_info": {
   "codemirror_mode": {
    "name": "ipython",
    "version": 3
   },
   "file_extension": ".py",
   "mimetype": "text/x-python",
   "name": "python",
   "nbconvert_exporter": "python",
   "pygments_lexer": "ipython3",
   "version": "3.7.1"
  }
 },
 "nbformat": 4,
 "nbformat_minor": 2
}
