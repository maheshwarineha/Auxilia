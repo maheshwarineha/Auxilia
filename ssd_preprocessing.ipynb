{
 "cells": [
  {
   "cell_type": "code",
   "execution_count": 6,
   "metadata": {},
   "outputs": [],
   "source": [
    "import glob\n",
    "import os\n",
    "from xml.dom import minidom\n",
    "\n",
    "os.chdir(r'C:\\Users\\adithi\\Desktop\\Praxis\\capstone\\img\\green_screen_resized_bg_annotations_folder')\n",
    "\n",
    "#xml_files = glob.glob('img/green_screen_resized_bg_annotations_folder/' + \"*.xml\")\n",
    "xml_files = glob.glob(\"*.xml\")\n",
    "count = 0\n",
    "#left_TrainValTxt = open('left_trainval.txt', 'a')\n",
    "#left_valTxt = open('left_trainval.txt', 'a')\n",
    "#right_TrainValTxt = open('right_train.txt', 'a')\n",
    "train_Txt = open('train.txt', 'a')\n",
    "#testTxt = open('left_val.txt', 'a')\n",
    "\n",
    "for file in xml_files:\n",
    "    pathImg = file.replace('\\\\','/')[:-4]\n",
    "    labelXml = minidom.parse(file)\n",
    "    \n",
    "    #width = file.getElementsByTagName('width')[0].firstChild.data\n",
    "    #height = file.getElementsByTagName('height')[0].firstChild.data\n",
    "    name = labelXml.getElementsByTagName('name')[0].firstChild.data  #for class\n",
    "    #if name == 'lefthand':\n",
    "     #   left_TrainValTxt.write(pathImg+'\\n')\n",
    "    #elif name == 'righthand':\n",
    "    train_Txt.write(pathImg+'\\n')\n",
    "\n",
    "    #xmin = xml_file.getElementsByTagName('xmin')[0].firstChild.data\n",
    "    #xmax = xml_file.getElementsByTagName('xmax')[0].firstChild.data\n",
    "    #ymin = xml_file.getElementsByTagName('ymin')[0].firstChild.data\n",
    "    #ymax = xml_file.getElementsByTagName('ymax')[0].firstChild.data\n",
    "    \n",
    "    #trainTxt.write(str(count) + ' ' + pathImg + '.png' + ' '+ str(width) + ' ' + str(height) + ' '+cls+' ' + str(xmin) + ' ' + str(ymin) +' ' + str(xmax) +' ' + str(ymax))\n",
    "    count += 1\n",
    "    #labelXml.close()\n",
    " \n",
    "    #left_TrainValTxt.close()\n",
    "train_Txt.close()"
   ]
  },
  {
   "cell_type": "code",
   "execution_count": 9,
   "metadata": {},
   "outputs": [],
   "source": [
    "#left_TrainTxt.close()\n",
    "right_ValTxt.close()"
   ]
  },
  {
   "cell_type": "code",
   "execution_count": 5,
   "metadata": {},
   "outputs": [],
   "source": [
    "# change image extension from png to jpg\n",
    "import os\n",
    "import glob\n",
    "path = 'C:\\\\Users\\\\adithi\\\\Desktop\\\\Praxis\\\\capstone\\\\img\\\\green_screen_resized_background_images\\\\'\n",
    "pngFiles = glob.glob(path+\"*.png\")\n",
    "for file in pngFiles:\n",
    "    pre, ext = os.path.splitext(file)\n",
    "    os.rename(file, pre + '.'+'jpg')"
   ]
  }
 ],
 "metadata": {
  "kernelspec": {
   "display_name": "Python 3",
   "language": "python",
   "name": "python3"
  },
  "language_info": {
   "codemirror_mode": {
    "name": "ipython",
    "version": 3
   },
   "file_extension": ".py",
   "mimetype": "text/x-python",
   "name": "python",
   "nbconvert_exporter": "python",
   "pygments_lexer": "ipython3",
   "version": "3.7.1"
  }
 },
 "nbformat": 4,
 "nbformat_minor": 2
}
