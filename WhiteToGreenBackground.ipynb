{
 "cells": [
  {
   "cell_type": "markdown",
   "metadata": {},
   "source": [
    "## Changing white background to green\n",
    "https://stackoverflow.com/questions/38048650/opencv-grabcut-background-color-and-contour-in-python/39351917#39351917"
   ]
  },
  {
   "cell_type": "code",
   "execution_count": 2,
   "metadata": {},
   "outputs": [],
   "source": [
    "import cv2\n",
    "import numpy as np\n",
    "\n",
    "# opencv loads the image in BGR, convert it to RGB\n",
    "img = cv2.cvtColor(cv2.imread('im10.jpeg'),\n",
    "                   cv2.COLOR_BGR2RGB)\n",
    "lower_white = np.array([100, 120, 120], dtype=np.uint8)\n",
    "upper_white = np.array([255, 255, 255], dtype=np.uint8)\n",
    "mask = cv2.inRange(img, lower_white, upper_white)  # could also use threshold\n",
    "mask = cv2.morphologyEx(mask, cv2.MORPH_OPEN, cv2.getStructuringElement(cv2.MORPH_ELLIPSE, (3, 3)))  # \"erase\" the small white points in the resulting mask\n",
    "mask = cv2.bitwise_not(mask)  # invert mask\n",
    "\n",
    "# load background (could be an image too)\n",
    "bk = np.full(img.shape,(0,100,0), dtype=np.uint8)  # background clr\n",
    "\n",
    "# get masked foreground\n",
    "fg_masked = cv2.bitwise_and(img, img, mask=mask)\n",
    "\n",
    "# get masked background, mask must be inverted \n",
    "mask = cv2.bitwise_not(mask)\n",
    "bk_masked = cv2.bitwise_and(bk, bk, mask=mask)\n",
    "\n",
    "# combine masked foreground and masked background \n",
    "final = cv2.bitwise_or(fg_masked, bk_masked)\n",
    "mask = cv2.bitwise_not(mask)  # revert mask to original\n",
    "\n",
    "final = cv2.cvtColor(final,\n",
    "                   cv2.COLOR_RGB2BGR)\n",
    "cv2.imshow(\"final\", final )\n",
    "\n",
    "k = cv2.waitKey(0)\n",
    "\n",
    "if k==27:\n",
    "    cv2.destroyAllWindows()\n",
    "\n"
   ]
  },
  {
   "cell_type": "code",
   "execution_count": null,
   "metadata": {},
   "outputs": [],
   "source": []
  }
 ],
 "metadata": {
  "kernelspec": {
   "display_name": "Python 3",
   "language": "python",
   "name": "python3"
  },
  "language_info": {
   "codemirror_mode": {
    "name": "ipython",
    "version": 3
   },
   "file_extension": ".py",
   "mimetype": "text/x-python",
   "name": "python",
   "nbconvert_exporter": "python",
   "pygments_lexer": "ipython3",
   "version": "3.7.1"
  }
 },
 "nbformat": 4,
 "nbformat_minor": 2
}
