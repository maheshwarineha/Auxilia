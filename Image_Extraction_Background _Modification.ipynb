{
 "cells": [
  {
   "cell_type": "code",
   "execution_count": 1,
   "metadata": {},
   "outputs": [],
   "source": [
    "import numpy as np\n",
    "import matplotlib.image as mpimg  # for reading in images\n",
    "\n",
    "import matplotlib.pyplot as plt\n",
    "import cv2  # computer vision library\n",
    "\n",
    "%matplotlib inline"
   ]
  },
  {
   "cell_type": "code",
   "execution_count": 10,
   "metadata": {},
   "outputs": [],
   "source": [
    "import sys"
   ]
  },
  {
   "cell_type": "code",
   "execution_count": 13,
   "metadata": {},
   "outputs": [
    {
     "data": {
      "text/plain": [
       "True"
      ]
     },
     "execution_count": 13,
     "metadata": {},
     "output_type": "execute_result"
    }
   ],
   "source": [
    "# opencv loads the image in BGR, convert it to RGB\n",
    "img = cv2.cvtColor(cv2.imread('left_hand_1.jpeg'), cv2.COLOR_BGR2RGB)\n",
    "lower_white = np.array([100, 145, 145], dtype=np.uint8)\n",
    "upper_white = np.array([255, 255, 255], dtype=np.uint8)\n",
    "mask = cv2.inRange(img, lower_white, upper_white)  # could also use threshold\n",
    "mask = cv2.morphologyEx(mask, cv2.MORPH_OPEN, cv2.getStructuringElement(cv2.MORPH_ELLIPSE, (3, 3)))  # \"erase\" the small white points in the resulting mask\n",
    "mask = cv2.bitwise_not(mask)  # invert mask\n",
    "\n",
    "# load background (could be an image too)\n",
    "bk = np.full(img.shape,(0,130,0), dtype=np.uint8)  # background clr\n",
    "\n",
    "# get masked foreground\n",
    "fg_masked = cv2.bitwise_and(img, img, mask=mask)\n",
    "\n",
    "# get masked background, mask must be inverted \n",
    "#mask = cv2.bitwise_not(mask)\n",
    "#bk_masked = cv2.bitwise_and(bk, bk, mask=mask)\n",
    "\n",
    "# combine masked foreground and masked background \n",
    "#final = cv2.bitwise_or(fg_masked, bk_masked)\n",
    "#mask = cv2.bitwise_not(mask)  # revert mask to original\n",
    "\n",
    "#final = cv2.cvtColor(final, cv2.COLOR_RGB2BGR)\n",
    "#cv2.imshow(\"final\", final )\n",
    "#cv2.imwrite('greenImage.jpg',final)\n",
    "\n",
    "#################\n",
    "background_image=cv2.imread('1900x1200.jpg')\n",
    "background_image=cv2.cvtColor(background_image,cv2.COLOR_BGR2RGB)\n",
    "\n",
    "# to put gesture image on top-left corner, So create a ROI\n",
    "rows,cols,channels = fg_masked.shape\n",
    "\n",
    "rowsBg,colsBg,channelsBg = background_image.shape\n",
    "if rowsBg<rows or colsBg<cols:\n",
    "    sys.exit('Background image shape should be atleast as much as gesture image size.')\n",
    "\n",
    "#background_image=background_image[0:rows,0:cols]  # if this line is removed, it takes the original size of the background\n",
    "roi = background_image[0:rows, 0:cols ]\n",
    "\n",
    "# Now create a mask of gesture image and create its inverse mask also\n",
    "fg_maskedgray = cv2.cvtColor(fg_masked,cv2.COLOR_BGR2GRAY)\n",
    "ret, mask = cv2.threshold(fg_maskedgray, 10, 255, cv2.THRESH_BINARY)\n",
    "mask_inv = cv2.bitwise_not(mask)\n",
    "\n",
    "# Now black-out the area of gesture image in ROI\n",
    "background_image_bg = cv2.bitwise_and(roi,roi,mask = mask_inv)\n",
    "\n",
    "# Take only region of gesture image from gesture image image.\n",
    "fg_masked_fg = cv2.bitwise_and(fg_masked,fg_masked,mask = mask)\n",
    "\n",
    "# Put gesture image in ROI and modify the main image\n",
    "dst = cv2.add(background_image_bg,fg_masked_fg)\n",
    "background_image[0:rows, 0:cols ] = dst\n",
    "background_image = cv2.cvtColor(background_image, cv2.COLOR_RGB2BGR)\n",
    "\n",
    "# Save the final image as jpg\n",
    "cv2.imwrite('UpdatedImage.jpg',background_image)\n",
    "#plt.imshow(background_image)\n"
   ]
  },
  {
   "cell_type": "code",
   "execution_count": null,
   "metadata": {},
   "outputs": [],
   "source": []
  }
 ],
 "metadata": {
  "kernelspec": {
   "display_name": "Python 3",
   "language": "python",
   "name": "python3"
  },
  "language_info": {
   "codemirror_mode": {
    "name": "ipython",
    "version": 3
   },
   "file_extension": ".py",
   "mimetype": "text/x-python",
   "name": "python",
   "nbconvert_exporter": "python",
   "pygments_lexer": "ipython3",
   "version": "3.7.1"
  }
 },
 "nbformat": 4,
 "nbformat_minor": 2
}
