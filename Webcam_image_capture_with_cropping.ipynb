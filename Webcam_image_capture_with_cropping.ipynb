{
 "cells": [
  {
   "cell_type": "code",
   "execution_count": 1,
   "metadata": {},
   "outputs": [],
   "source": [
    "#importing libraries\n",
    "import os\n",
    "import shutil\n",
    "import xml.etree.ElementTree as ET\n",
    "import cv2\n",
    "from PIL import Image, ExifTags, ImageOps\n",
    "import random\n",
    "import time"
   ]
  },
  {
   "cell_type": "code",
   "execution_count": 2,
   "metadata": {},
   "outputs": [],
   "source": [
    "#folder containing raw green screen images taken with camera..\n",
    "green_screen_img_folder = r\"C:\\Users\\adithi\\Desktop\\Praxis\\capstone\\img\\raw_green_images\"\n",
    "#The raw green screen images annotation folder...\n",
    "green_screen_annotation_folder = r\"C:\\Users\\adithi\\Desktop\\Praxis\\capstone\\img\\raw_annotation\"\n",
    "#folder containing annotated cropped green screen images..basically taking raw green screen images, annotating the region of interest and cropping it out..\n",
    "green_screen_img_cropped_folder = r\"C:\\Users\\adithi\\Desktop\\Praxis\\capstone\\img\\green_screen_image_cropped\"\n",
    "#The cropped green screen images annotation folder\n",
    "green_screen_cropped_annotations_folder = r\"C:\\Users\\adithi\\Desktop\\Praxis\\capstone\\img\\green_img_cropped_annotation\""
   ]
  },
  {
   "cell_type": "code",
   "execution_count": 3,
   "metadata": {},
   "outputs": [],
   "source": [
    "#folder to save preprocessed images i.e, a green screen image is layed randomly on different backgrounds...\n",
    "green_screen_resized_bg_images_folder = r\"C:\\Users\\adithi\\Desktop\\Praxis\\capstone\\img\\green_screen_resized_background_images\"\n",
    "#annotations folder of preprocessed images...\n",
    "green_screen_resized_bg_annotations_folder = r\"C:\\Users\\adithi\\Desktop\\Praxis\\capstone\\img\\green_screen_resized_bg_annotations_folder\"\n",
    "#folder containing random background images...\n",
    "background_folder = r\"C:\\Users\\adithi\\Desktop\\Praxis\\capstone\\img\\background_folder\""
   ]
  },
  {
   "cell_type": "markdown",
   "metadata": {},
   "source": [
    "##### This program will take the raw green screen images which are annotated.. it will crop the images to perfection so that the entire background is green.. and save the cropped images to another folder while simultaneously changing the annotations.."
   ]
  },
  {
   "cell_type": "code",
   "execution_count": 8,
   "metadata": {},
   "outputs": [],
   "source": [
    "for file in os.listdir(green_screen_annotation_folder):\n",
    "    xml_file = file\n",
    "    img_name = xml_file[:-4] + \".png\"\n",
    "    \n",
    "    tree = ET.parse(green_screen_annotation_folder + '\\\\' + xml_file) \n",
    "    \n",
    "    xmin = int(tree.find('object/bndbox/xmin').text)\n",
    "    xmax = int(tree.find('object/bndbox/xmax').text) \n",
    "    ymax = int(tree.find('object/bndbox/ymax').text) \n",
    "    ymin = int(tree.find('object/bndbox/ymin').text) \n",
    "    \n",
    "    original = Image.open(green_screen_img_folder + \"\\\\\" + img_name)\n",
    "    original = original.crop((xmin, ymin, xmax, ymax))\n",
    "    original.save(green_screen_img_cropped_folder + \"\\\\\" + img_name)\n",
    "    \n",
    "    x = original.size[0]\n",
    "    y = original.size[1]\n",
    "    \n",
    "    original.close()\n",
    "    \n",
    "    tree.find('object/bndbox/xmin').text = str(1)\n",
    "    tree.find('object/bndbox/xmax').text = str(x - 1)\n",
    "    tree.find('object/bndbox/ymax').text = str(y - 1)\n",
    "    tree.find('object/bndbox/ymin').text = str(1)\n",
    "    tree.find('size/width').text = str(x)\n",
    "    tree.find('size/height').text = str(y)\n",
    "    tree.write(green_screen_cropped_annotations_folder + '\\\\' + xml_file)"
   ]
  },
  {
   "cell_type": "markdown",
   "metadata": {},
   "source": [
    "##### The below program will take each green screen image, convert it to transparent image, randomly resize it and place it on different background images and save them to a folder. while doing so annotations are dynamically changed accordingly to select the hand gesture(region of interest)..."
   ]
  },
  {
   "cell_type": "code",
   "execution_count": 9,
   "metadata": {},
   "outputs": [],
   "source": [
    "#loading all background images from the backgrounds folder..\n",
    "bg_files = []\n",
    "for file in os.listdir(background_folder):\n",
    "    bg_files.append(file)\n",
    "\n",
    "#print(bg_files)\n",
    "#print(len(bg_files))"
   ]
  },
  {
   "cell_type": "code",
   "execution_count": 10,
   "metadata": {},
   "outputs": [],
   "source": [
    "for file in os.listdir(green_screen_cropped_annotations_folder):\n",
    "    count = 1\n",
    "    image_name = file[:-4] + \".png\"\n",
    "    img_file = Image.open(green_screen_img_cropped_folder + \"\\\\\" + image_name)\n",
    "    img_file_w, img_file_h = img_file.size\n",
    "    \n",
    "    bg_w = 1440\n",
    "    bg_h = 900\n",
    "    \n",
    "    w_limit = bg_w/img_file_w\n",
    "    h_limit = bg_h/img_file_h\n",
    "    \n",
    "    factor_l = min(w_limit, h_limit)\n",
    "    \n",
    "    tree = ET.parse(green_screen_cropped_annotations_folder + '\\\\' + file) \n",
    "    \n",
    "    xmin = int(tree.find('object/bndbox/xmin').text)\n",
    "    xmax = int(tree.find('object/bndbox/xmax').text) \n",
    "    ymax = int(tree.find('object/bndbox/ymax').text) \n",
    "    ymin = int(tree.find('object/bndbox/ymin').text) \n",
    "    \n",
    "    while count <= 9:\n",
    "        timestr = \"_\" + time.strftime(\"%Y%m%d_%H%M%S\") + \"_\" + str(count)\n",
    "\n",
    "        background = Image.open(background_folder + '\\\\' + random.choice(bg_files))\n",
    "        background = background.resize((1440, 900))\n",
    "        #bg_w, bg_h = background.size\n",
    "        #bg_w, bg_h\n",
    "        #w_limit = bg_w/img_file_w\n",
    "        #h_limit = bg_h/img_file_h\n",
    "        \n",
    "        factor = random.randint(7,int(factor_l*10))/10\n",
    "        \n",
    "        img = img_file.resize((int(img_file_w * factor), int(img_file_h * factor)))\n",
    "        \n",
    "        img = img.convert(\"RGBA\")\n",
    "        \n",
    "        newData = []\n",
    "        for item in img.getdata():\n",
    "            if item[0] == 0 and item[1] == 0 and item[2] == 0:\n",
    "                newData.append((255, 255, 255, 0))\n",
    "            else:\n",
    "                newData.append(item)\n",
    "        img.putdata(newData)\n",
    "        \n",
    "        img_w, img_h = img.size\n",
    "        \n",
    "        scale_bg_w, scale_bg_h = bg_w - img_w, bg_h - img_h\n",
    "        \n",
    "        if scale_bg_w == 0:\n",
    "            continue\n",
    "        else :\n",
    "            scale_bg_w = random.randint(1, scale_bg_w)\n",
    "            \n",
    "        if scale_bg_h == 0:\n",
    "            continue\n",
    "        else:\n",
    "            scale_bg_h = random.randint(1, scale_bg_h)\n",
    "            \n",
    "        #scale_bg_w = random.randint(1, scale_bg_w)\n",
    "        #scale_bg_h = random.randint(1, scale_bg_h)\n",
    "        \n",
    "        offset = (scale_bg_w, scale_bg_h, scale_bg_w + img_w, scale_bg_h + img_h)\n",
    "        \n",
    "        background.paste(img, offset, mask = img)\n",
    "        \n",
    "        background.save(green_screen_resized_bg_images_folder + \"\\\\\" + image_name[:-4] + timestr + \".png\")\n",
    "        \n",
    "        xml_file = green_screen_cropped_annotations_folder + \"\\\\\" + image_name[:-4] + \".xml\"\n",
    "        \n",
    "        tree = ET.parse(xml_file) \n",
    "        \n",
    "        tree.find('filename').text = image_name[:-4] + timestr + \".png\"\n",
    "        tree.find('object/bndbox/xmin').text = str(int(scale_bg_w + xmin*factor))\n",
    "        tree.find('object/bndbox/xmax').text = str(int(scale_bg_w + xmax*factor))\n",
    "        tree.find('object/bndbox/ymax').text = str(int(scale_bg_h + ymax*factor))\n",
    "        tree.find('object/bndbox/ymin').text = str(int(scale_bg_h + ymin*factor))\n",
    "        tree.find('size/width').text = str(bg_w)\n",
    "        tree.find('size/height').text = str(bg_h)\n",
    "        tree.write(green_screen_resized_bg_annotations_folder + \"\\\\\" + image_name[:-4] + timestr + \".xml\")\n",
    "        \n",
    "        background.close()\n",
    "        count+=1"
   ]
  },
  {
   "cell_type": "code",
   "execution_count": null,
   "metadata": {},
   "outputs": [],
   "source": [
    "### cropping"
   ]
  },
  {
   "cell_type": "code",
   "execution_count": null,
   "metadata": {},
   "outputs": [],
   "source": []
  },
  {
   "cell_type": "code",
   "execution_count": null,
   "metadata": {},
   "outputs": [],
   "source": []
  },
  {
   "cell_type": "code",
   "execution_count": null,
   "metadata": {},
   "outputs": [],
   "source": []
  },
  {
   "cell_type": "code",
   "execution_count": null,
   "metadata": {},
   "outputs": [],
   "source": []
  },
  {
   "cell_type": "code",
   "execution_count": null,
   "metadata": {},
   "outputs": [],
   "source": []
  },
  {
   "cell_type": "code",
   "execution_count": null,
   "metadata": {},
   "outputs": [],
   "source": []
  },
  {
   "cell_type": "code",
   "execution_count": null,
   "metadata": {},
   "outputs": [],
   "source": []
  },
  {
   "cell_type": "code",
   "execution_count": null,
   "metadata": {},
   "outputs": [],
   "source": []
  },
  {
   "cell_type": "code",
   "execution_count": null,
   "metadata": {},
   "outputs": [],
   "source": []
  },
  {
   "cell_type": "code",
   "execution_count": null,
   "metadata": {},
   "outputs": [],
   "source": []
  }
 ],
 "metadata": {
  "kernelspec": {
   "display_name": "Python 3",
   "language": "python",
   "name": "python3"
  },
  "language_info": {
   "codemirror_mode": {
    "name": "ipython",
    "version": 3
   },
   "file_extension": ".py",
   "mimetype": "text/x-python",
   "name": "python",
   "nbconvert_exporter": "python",
   "pygments_lexer": "ipython3",
   "version": "3.7.1"
  }
 },
 "nbformat": 4,
 "nbformat_minor": 2
}
